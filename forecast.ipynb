{
 "cells": [
  {
   "cell_type": "code",
   "execution_count": 1,
   "metadata": {},
   "outputs": [],
   "source": [
    "import datetime as dt\n",
    "import numpy as np\n",
    "import os\n",
    "import pandas as pd"
   ]
  },
  {
   "cell_type": "code",
   "execution_count": 2,
   "metadata": {},
   "outputs": [],
   "source": [
    "time_start = dt.datetime(2014,1,1)\n",
    "time_end = dt.datetime(2017,8,31,23,59,59)\n",
    "station_start = 6184\n",
    "station_end = 6015"
   ]
  },
  {
   "cell_type": "code",
   "execution_count": 3,
   "metadata": {},
   "outputs": [],
   "source": [
    "def read_csv(year, month):\n",
    "    file = os.path.join('data', f'BixiMontrealRentals{year}', f'OD_{year}-{month:02}.csv')\n",
    "    df = pd.read_csv(file, parse_dates=['start_date', 'end_date'])\n",
    "    df.sort_values(by=['start_date'], inplace=True)\n",
    "    date_range = (df['start_date'] >= time_start) & (df['end_date'] <= time_end)\n",
    "    df = df.loc[date_range]\n",
    "    route = (df['start_station_code'] == station_start) & (df['end_station_code'] == station_end)\n",
    "    df = df.loc[route]\n",
    "    return df"
   ]
  },
  {
   "cell_type": "code",
   "execution_count": 4,
   "metadata": {},
   "outputs": [],
   "source": [
    "df = pd.DataFrame()\n",
    "for year in range(2014,2018):\n",
    "    for month in range(1,13):\n",
    "        try:\n",
    "            df = df.append(read_csv(year, month))\n",
    "        except FileNotFoundError:\n",
    "            pass"
   ]
  }
 ],
 "metadata": {
  "kernelspec": {
   "display_name": "Python 3",
   "language": "python",
   "name": "python3"
  },
  "language_info": {
   "codemirror_mode": {
    "name": "ipython",
    "version": 3
   },
   "file_extension": ".py",
   "mimetype": "text/x-python",
   "name": "python",
   "nbconvert_exporter": "python",
   "pygments_lexer": "ipython3",
   "version": "3.7.3"
  }
 },
 "nbformat": 4,
 "nbformat_minor": 2
}
