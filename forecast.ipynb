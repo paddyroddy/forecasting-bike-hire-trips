{
 "cells": [
  {
   "cell_type": "code",
   "execution_count": 22,
   "metadata": {},
   "outputs": [],
   "source": [
    "import datetime as dt\n",
    "import os\n",
    "import pandas as pd"
   ]
  },
  {
   "cell_type": "code",
   "execution_count": 29,
   "metadata": {},
   "outputs": [],
   "source": [
    "station_start = 6184\n",
    "station_end = 6015"
   ]
  },
  {
   "cell_type": "code",
   "execution_count": 37,
   "metadata": {},
   "outputs": [],
   "source": [
    "def read_csv(year):\n",
    "    t0 = dt.datetime(year,9,4)\n",
    "    t1 = t0 + dt.timedelta(days=7, seconds=-1)\n",
    "    file = os.path.join('data', 'BixiMontrealRentals' + str(year), 'OD_' + str(year) + '-09.csv')\n",
    "    df = pd.read_csv(file, infer_datetime_format=T)\n",
    "    return df"
   ]
  },
  {
   "cell_type": "code",
   "execution_count": 35,
   "metadata": {},
   "outputs": [],
   "source": [
    "df = read_csv(2014)"
   ]
  },
  {
   "cell_type": "code",
   "execution_count": 36,
   "metadata": {},
   "outputs": [
    {
     "data": {
      "text/html": [
       "<div>\n",
       "<style scoped>\n",
       "    .dataframe tbody tr th:only-of-type {\n",
       "        vertical-align: middle;\n",
       "    }\n",
       "\n",
       "    .dataframe tbody tr th {\n",
       "        vertical-align: top;\n",
       "    }\n",
       "\n",
       "    .dataframe thead th {\n",
       "        text-align: right;\n",
       "    }\n",
       "</style>\n",
       "<table border=\"1\" class=\"dataframe\">\n",
       "  <thead>\n",
       "    <tr style=\"text-align: right;\">\n",
       "      <th></th>\n",
       "      <th>start_date</th>\n",
       "      <th>start_station_code</th>\n",
       "      <th>end_date</th>\n",
       "      <th>end_station_code</th>\n",
       "      <th>duration_sec</th>\n",
       "      <th>is_member</th>\n",
       "    </tr>\n",
       "  </thead>\n",
       "  <tbody>\n",
       "    <tr>\n",
       "      <th>0</th>\n",
       "      <td>2014-09-01 00:00</td>\n",
       "      <td>6036</td>\n",
       "      <td>2014-09-01 00:18</td>\n",
       "      <td>6026</td>\n",
       "      <td>1097</td>\n",
       "      <td>1</td>\n",
       "    </tr>\n",
       "    <tr>\n",
       "      <th>1</th>\n",
       "      <td>2014-09-01 00:00</td>\n",
       "      <td>6114</td>\n",
       "      <td>2014-09-01 00:26</td>\n",
       "      <td>6398</td>\n",
       "      <td>1575</td>\n",
       "      <td>1</td>\n",
       "    </tr>\n",
       "    <tr>\n",
       "      <th>2</th>\n",
       "      <td>2014-09-01 00:00</td>\n",
       "      <td>6131</td>\n",
       "      <td>2014-09-01 00:11</td>\n",
       "      <td>6178</td>\n",
       "      <td>646</td>\n",
       "      <td>1</td>\n",
       "    </tr>\n",
       "    <tr>\n",
       "      <th>3</th>\n",
       "      <td>2014-09-01 00:00</td>\n",
       "      <td>6310</td>\n",
       "      <td>2014-09-01 00:12</td>\n",
       "      <td>6136</td>\n",
       "      <td>715</td>\n",
       "      <td>1</td>\n",
       "    </tr>\n",
       "    <tr>\n",
       "      <th>4</th>\n",
       "      <td>2014-09-01 00:00</td>\n",
       "      <td>6131</td>\n",
       "      <td>2014-09-01 00:11</td>\n",
       "      <td>6178</td>\n",
       "      <td>611</td>\n",
       "      <td>1</td>\n",
       "    </tr>\n",
       "  </tbody>\n",
       "</table>\n",
       "</div>"
      ],
      "text/plain": [
       "         start_date  start_station_code          end_date  end_station_code  \\\n",
       "0  2014-09-01 00:00                6036  2014-09-01 00:18              6026   \n",
       "1  2014-09-01 00:00                6114  2014-09-01 00:26              6398   \n",
       "2  2014-09-01 00:00                6131  2014-09-01 00:11              6178   \n",
       "3  2014-09-01 00:00                6310  2014-09-01 00:12              6136   \n",
       "4  2014-09-01 00:00                6131  2014-09-01 00:11              6178   \n",
       "\n",
       "   duration_sec  is_member  \n",
       "0          1097          1  \n",
       "1          1575          1  \n",
       "2           646          1  \n",
       "3           715          1  \n",
       "4           611          1  "
      ]
     },
     "execution_count": 36,
     "metadata": {},
     "output_type": "execute_result"
    }
   ],
   "source": [
    "df.head()"
   ]
  },
  {
   "cell_type": "code",
   "execution_count": null,
   "metadata": {},
   "outputs": [],
   "source": []
  }
 ],
 "metadata": {
  "kernelspec": {
   "display_name": "Python 3",
   "language": "python",
   "name": "python3"
  },
  "language_info": {
   "codemirror_mode": {
    "name": "ipython",
    "version": 3
   },
   "file_extension": ".py",
   "mimetype": "text/x-python",
   "name": "python",
   "nbconvert_exporter": "python",
   "pygments_lexer": "ipython3",
   "version": "3.7.3"
  }
 },
 "nbformat": 4,
 "nbformat_minor": 2
}
